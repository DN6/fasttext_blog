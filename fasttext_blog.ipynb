{
 "cells": [
  {
   "cell_type": "markdown",
   "metadata": {},
   "source": [
    "### Fasttext for Knowledge Graph Embeddings"
   ]
  },
  {
   "cell_type": "markdown",
   "metadata": {},
   "source": [
    "Knowledge Graphs are highly flexible data structures that are used to represent relationships between real world entities. Entities such as \"Mona Lisa\", or \"DaVinci\", are represented as nodes in the graph, while relationships such as \"created_by\", are represented as edges.\n",
    "\n",
    "These graphs are a way to formally structure domain specific knowledge, and formed the basis for some of the earliest artificial intelligence systems. Google, Facebook, and LinkedIn are a few of the companies that leverage knowledge graphs to power their search, and information retrieval tools. "
   ]
  },
  {
   "cell_type": "markdown",
   "metadata": {},
   "source": [
    "<img src=\"https://dvcs.w3.org/hg/rdf/raw-file/default/rdf-primer/example-graph.jpg\" style=\"width: 400px;\"/>"
   ]
  },
  {
   "cell_type": "markdown",
   "metadata": {},
   "source": [
    "There are many ways to think about data in these graphs. One approach is to follow the [Resource Description Framework](https://www.w3.org/RDF/)standard and represent facts in the form of binary relationships. \n",
    "\n",
    "This means expressing facts, as subject, predicate, object triples (S,P,O), along with a binary score, indicating whether that triple is valid of not. "
   ]
  },
  {
   "cell_type": "markdown",
   "metadata": {},
   "source": [
    "| Subject        | Predicate          | Object  | Target |\n",
    "| ------------- |:-------------:| -----:|\n",
    "| Spock      | characterIn | StarTrek | 1 |\n",
    "| J.K.Rowling      | authorOf      |   Harry Potter | 1 |\n",
    "| Lion | isA      |    herbivore | 0 |\n"
   ]
  },
  {
   "cell_type": "markdown",
   "metadata": {},
   "source": [
    "Let us say that $\\textit{E} = \\{e_1, e_2, ..., e_n\\}$ represents the set of all entities in the graph, and $\\textit{R} = \\{r_1, r_2, ..., r_n\\}$ is the set of all relations in the graph. Any triple, $x_{ijk} = (e_i, r_j, e_k)$ can be modelled as a binary random variable $y_{ijk} \\in \\{1, 0\\}$. All possible triples can be grouped in a 3D array $Y \\in \\{0, 1\\}^{N_e \\times N_r \\times N_e}$ [1]\n"
   ]
  },
  {
   "cell_type": "markdown",
   "metadata": {},
   "source": [
    "<img src=\"./images/graph-tensor.png\" style=\"width: 400px;\"/>\n",
    "<center>Graph Tensor Nickels et al.(2015)</center>"
   ]
  },
  {
   "cell_type": "markdown",
   "metadata": {},
   "source": [
    "The matrix $Y$ can be quite huge for most knowledge graphs. However only a few of the possible relations in the graph turn out to be true. For example, the Freebase graph contains information about 400,000 movies, and 250,000 actors, but each actor has only starred in a few movies. Another important thing to consider is that knowledge graphs often have many missing or incorrect facts. One of the main tasks in knowledge graph curation, is predicting the correctness of the link between two entities [1]"
   ]
  },
  {
   "cell_type": "markdown",
   "metadata": {},
   "source": [
    "Let us say that we can represent the actor Leonardo DiCaprio, as a feature vector $ e = \\lbrack 0.8, 0.2 \\rbrack $. The first component in this vector corresponds to the latent feature *good Actor*, while the second component is the feature *prestigious Award*. Using this method we could represent the Oscars, with the vector $ e = \\lbrack 0.1, 0.8 \\rbrack $\n",
    "\n",
    "Typically, the objective of embedding methods is to organize symbolic objects (e.g., words, entities, concepts) in a way such that their similarity in the embedding space reflects their semantic or functional similarity [2]"
   ]
  },
  {
   "cell_type": "markdown",
   "metadata": {},
   "source": [
    "<img src=\"./images/ImageClassManifold.png\" style=\"width: 400px;\"/>\n",
    "<center>Socher et al.(2015)</center>"
   ]
  },
  {
   "cell_type": "markdown",
   "metadata": {},
   "source": [
    "These models try to learn features for these entities directly from the graph triples. In reality, the individual components of these learned features are not easy to intepret. The key take away from these models, is that the relationships between entities can be derived from the interaction of their latent features. They try to predict the existence of a triple $x_{ijk}$ using a scoring function, $ f(x_{ijk}, \\Theta)$, which expresses the confidence that the triple exists, given the parameters $\\Theta$ [1]\n",
    "\n",
    "In this post we will examine how a simple embedding model, Fasttext, learns to represent entities\n",
    "in an example graph. "
   ]
  },
  {
   "cell_type": "markdown",
   "metadata": {},
   "source": [
    "### Dataset"
   ]
  },
  {
   "cell_type": "markdown",
   "metadata": {},
   "source": [
    "We will be using the Families dataset as our knowledge graph. Our dataset consists \n",
    "of a total of 24 people belonging to 2 families, with 12 distinct relationships between individual members. This dataset was used by Hinton et al(1986) in their paper on the distributed learning of concepts.  "
   ]
  },
  {
   "cell_type": "code",
   "execution_count": 59,
   "metadata": {},
   "outputs": [
    {
     "data": {
      "text/plain": [
       "(112, 3)"
      ]
     },
     "execution_count": 59,
     "metadata": {},
     "output_type": "execute_result"
    }
   ],
   "source": [
    "# Start by importing our dataset\n",
    "import pandas as pd\n",
    "\n",
    "families = pd.read_csv('./data/families.csv', sep='\\t', header=None)\n",
    "families.columns = ['head', 'relation', 'tail']\n",
    "families.shape"
   ]
  },
  {
   "cell_type": "markdown",
   "metadata": {},
   "source": [
    "The first thing we need to do is extract the number of unique entities, in our dataset, and create a unique numerical index for each them. This index will be used later to look up the vector representation of the entity in our embedding layer. Keras provides a convenient Tokenizer API, that takes in a list strings, and creates unique integer index for each them"
   ]
  },
  {
   "cell_type": "code",
   "execution_count": 60,
   "metadata": {},
   "outputs": [
    {
     "data": {
      "text/plain": [
       "24"
      ]
     },
     "execution_count": 60,
     "metadata": {},
     "output_type": "execute_result"
    }
   ],
   "source": [
    "import numpy as np\n",
    "\n",
    "# extract the total number of unique entities in our graph.\n",
    "entities = np.unique(families[['head', 'tail']].values)\n",
    "len(entities)"
   ]
  },
  {
   "cell_type": "code",
   "execution_count": 62,
   "metadata": {},
   "outputs": [],
   "source": [
    "import json\n",
    "\n",
    "from keras.preprocessing.text import Tokenizer\n",
    "\n",
    "t = Tokenizer(len(entities), filters='', split=\" \")\n",
    "t.fit_on_texts(list(entities))\n",
    "\n",
    "entities_index = t.word_index"
   ]
  },
  {
   "cell_type": "markdown",
   "metadata": {},
   "source": [
    "As you can see below, every token in the graph dataset has been assigned a unique integer value. This value corresponds to the row representing the entity in the embedding matrix"
   ]
  },
  {
   "cell_type": "code",
   "execution_count": 63,
   "metadata": {},
   "outputs": [
    {
     "data": {
      "text/plain": [
       "{'alf': 1,\n",
       " 'and': 2,\n",
       " 'ang': 3,\n",
       " 'art': 4,\n",
       " 'cha': 5,\n",
       " 'che': 6,\n",
       " 'chr': 7,\n",
       " 'chs': 8,\n",
       " 'col': 9,\n",
       " 'emi': 10,\n",
       " 'fra': 11,\n",
       " 'gin': 12,\n",
       " 'jam': 13,\n",
       " 'jen': 14,\n",
       " 'luc': 15,\n",
       " 'maa': 16,\n",
       " 'mar': 17,\n",
       " 'mat': 18,\n",
       " 'pen': 19,\n",
       " 'pie': 20,\n",
       " 'rob': 21,\n",
       " 'sop': 22,\n",
       " 'tom': 23,\n",
       " 'vic': 24}"
      ]
     },
     "execution_count": 63,
     "metadata": {},
     "output_type": "execute_result"
    }
   ],
   "source": [
    "entities_index"
   ]
  },
  {
   "cell_type": "markdown",
   "metadata": {},
   "source": [
    "Next, we'll create one hot encoded labels for each relationship in our dataset.  "
   ]
  },
  {
   "cell_type": "code",
   "execution_count": 73,
   "metadata": {},
   "outputs": [
    {
     "data": {
      "text/html": [
       "<div>\n",
       "<style scoped>\n",
       "    .dataframe tbody tr th:only-of-type {\n",
       "        vertical-align: middle;\n",
       "    }\n",
       "\n",
       "    .dataframe tbody tr th {\n",
       "        vertical-align: top;\n",
       "    }\n",
       "\n",
       "    .dataframe thead th {\n",
       "        text-align: right;\n",
       "    }\n",
       "</style>\n",
       "<table border=\"1\" class=\"dataframe\">\n",
       "  <thead>\n",
       "    <tr style=\"text-align: right;\">\n",
       "      <th></th>\n",
       "      <th>head</th>\n",
       "      <th>tail</th>\n",
       "      <th>relation_au</th>\n",
       "      <th>relation_br</th>\n",
       "      <th>relation_da</th>\n",
       "      <th>relation_fa</th>\n",
       "      <th>relation_hu</th>\n",
       "      <th>relation_mo</th>\n",
       "      <th>relation_ne</th>\n",
       "      <th>relation_ni</th>\n",
       "      <th>relation_si</th>\n",
       "      <th>relation_so</th>\n",
       "      <th>relation_un</th>\n",
       "      <th>relation_wi</th>\n",
       "    </tr>\n",
       "  </thead>\n",
       "  <tbody>\n",
       "    <tr>\n",
       "      <th>0</th>\n",
       "      <td>cha</td>\n",
       "      <td>art</td>\n",
       "      <td>0</td>\n",
       "      <td>0</td>\n",
       "      <td>0</td>\n",
       "      <td>0</td>\n",
       "      <td>0</td>\n",
       "      <td>0</td>\n",
       "      <td>0</td>\n",
       "      <td>1</td>\n",
       "      <td>0</td>\n",
       "      <td>0</td>\n",
       "      <td>0</td>\n",
       "      <td>0</td>\n",
       "    </tr>\n",
       "    <tr>\n",
       "      <th>1</th>\n",
       "      <td>cha</td>\n",
       "      <td>chs</td>\n",
       "      <td>0</td>\n",
       "      <td>0</td>\n",
       "      <td>0</td>\n",
       "      <td>0</td>\n",
       "      <td>0</td>\n",
       "      <td>0</td>\n",
       "      <td>0</td>\n",
       "      <td>1</td>\n",
       "      <td>0</td>\n",
       "      <td>0</td>\n",
       "      <td>0</td>\n",
       "      <td>0</td>\n",
       "    </tr>\n",
       "    <tr>\n",
       "      <th>2</th>\n",
       "      <td>cha</td>\n",
       "      <td>jen</td>\n",
       "      <td>0</td>\n",
       "      <td>0</td>\n",
       "      <td>0</td>\n",
       "      <td>0</td>\n",
       "      <td>0</td>\n",
       "      <td>0</td>\n",
       "      <td>0</td>\n",
       "      <td>1</td>\n",
       "      <td>0</td>\n",
       "      <td>0</td>\n",
       "      <td>0</td>\n",
       "      <td>0</td>\n",
       "    </tr>\n",
       "    <tr>\n",
       "      <th>3</th>\n",
       "      <td>cha</td>\n",
       "      <td>mat</td>\n",
       "      <td>0</td>\n",
       "      <td>0</td>\n",
       "      <td>0</td>\n",
       "      <td>0</td>\n",
       "      <td>0</td>\n",
       "      <td>0</td>\n",
       "      <td>0</td>\n",
       "      <td>1</td>\n",
       "      <td>0</td>\n",
       "      <td>0</td>\n",
       "      <td>0</td>\n",
       "      <td>0</td>\n",
       "    </tr>\n",
       "    <tr>\n",
       "      <th>4</th>\n",
       "      <td>sop</td>\n",
       "      <td>ang</td>\n",
       "      <td>0</td>\n",
       "      <td>0</td>\n",
       "      <td>0</td>\n",
       "      <td>0</td>\n",
       "      <td>0</td>\n",
       "      <td>0</td>\n",
       "      <td>0</td>\n",
       "      <td>1</td>\n",
       "      <td>0</td>\n",
       "      <td>0</td>\n",
       "      <td>0</td>\n",
       "      <td>0</td>\n",
       "    </tr>\n",
       "  </tbody>\n",
       "</table>\n",
       "</div>"
      ],
      "text/plain": [
       "  head tail  relation_au  relation_br  relation_da  relation_fa  relation_hu  \\\n",
       "0  cha  art            0            0            0            0            0   \n",
       "1  cha  chs            0            0            0            0            0   \n",
       "2  cha  jen            0            0            0            0            0   \n",
       "3  cha  mat            0            0            0            0            0   \n",
       "4  sop  ang            0            0            0            0            0   \n",
       "\n",
       "   relation_mo  relation_ne  relation_ni  relation_si  relation_so  \\\n",
       "0            0            0            1            0            0   \n",
       "1            0            0            1            0            0   \n",
       "2            0            0            1            0            0   \n",
       "3            0            0            1            0            0   \n",
       "4            0            0            1            0            0   \n",
       "\n",
       "   relation_un  relation_wi  \n",
       "0            0            0  \n",
       "1            0            0  \n",
       "2            0            0  \n",
       "3            0            0  \n",
       "4            0            0  "
      ]
     },
     "execution_count": 73,
     "metadata": {},
     "output_type": "execute_result"
    }
   ],
   "source": [
    "df = pd.get_dummies(families, columns=['relation'])\n",
    "df.head()"
   ]
  },
  {
   "cell_type": "markdown",
   "metadata": {},
   "source": [
    "Since our dataset is quite small, we can increase the number of examples by \n",
    "randomly sampling 30% of the dataset and appending it our existing data "
   ]
  },
  {
   "cell_type": "code",
   "execution_count": 74,
   "metadata": {},
   "outputs": [
    {
     "data": {
      "text/plain": [
       "(21367, 14)"
      ]
     },
     "execution_count": 74,
     "metadata": {},
     "output_type": "execute_result"
    }
   ],
   "source": [
    "for i in range(20):\n",
    "    sample = df.sample(frac=0.3).reset_index(drop=True)\n",
    "    df = df.append(sample, ignore_index=True)\n",
    "\n",
    "df.shape"
   ]
  },
  {
   "cell_type": "markdown",
   "metadata": {},
   "source": [
    "Once we have enough data, we can divide it into training, validation, and test sets. \n",
    "For this post, I've decided to go with a 8:1:1 split, after shuffling the entire dataset. "
   ]
  },
  {
   "cell_type": "code",
   "execution_count": 82,
   "metadata": {},
   "outputs": [],
   "source": [
    "from sklearn.model_selection import train_test_split\n",
    "\n",
    "# shuffles the data\n",
    "df = df.sample(frac=1)\n",
    "\n",
    "tmp, test_data = train_test_split(df, test_size=0.1)\n",
    "training_data, validation_data = train_test_split(tmp, test_size=0.1)"
   ]
  },
  {
   "cell_type": "markdown",
   "metadata": {},
   "source": [
    "### Model"
   ]
  },
  {
   "cell_type": "markdown",
   "metadata": {},
   "source": [
    "We will be using [Fasttext](https://github.com/facebookresearch/fastText) to learn our embeddings. Fasttext is a linear classification model, originally developed as a baseline for sentiment analysis. It is a simple model, with only a single hidden layer, but manages to deliver comparable performance to more complex models, and takes significantly less time to train [3]  \n",
    "\n",
    "It works by averaging the vector representations of a set of discrete tokens into a [Bag of Words](https://machinelearningmastery.com/gentle-introduction-bag-words-model/) representation, and feeds this representation into a linear classifer that computes the probability distribution over a set of classes\n",
    "\n",
    "Fasttext frames the knowledge based completion task as a classification problem. In our example, it will try to classify whether a given entity pair has a valid relationship. It does this by minimizing the following loss function."
   ]
  },
  {
   "cell_type": "markdown",
   "metadata": {},
   "source": [
    "$$-\\frac{1}{N}\\sum_{n=1}^{N}y_n\\log(f(WVx_n)) + (1 - y_n)(1 - \\log(f(WVx_n))$$\n",
    "\n",
    "Where $x_n$ is the input token, $y_n$ is our label, $V$ is the embedding matrix that represents the latent features of our entities, $W$ is the weight matrix of the classifier, that captures latent features of our relations, and $f$ is a sigmoid activation function, that acts as the scoring function. "
   ]
  },
  {
   "cell_type": "code",
   "execution_count": 84,
   "metadata": {},
   "outputs": [
    {
     "name": "stdout",
     "output_type": "stream",
     "text": [
      "_________________________________________________________________\n",
      "Layer (type)                 Output Shape              Param #   \n",
      "=================================================================\n",
      "main_input (InputLayer)      (None, 2)                 0         \n",
      "_________________________________________________________________\n",
      "embedding (Embedding)        (None, 2, 200)            4800      \n",
      "_________________________________________________________________\n",
      "global_average_pooling1d_9 ( (None, 200)               0         \n",
      "_________________________________________________________________\n",
      "dense_8 (Dense)              (None, 12)                2412      \n",
      "_________________________________________________________________\n",
      "activation_8 (Activation)    (None, 12)                0         \n",
      "=================================================================\n",
      "Total params: 7,212\n",
      "Trainable params: 7,212\n",
      "Non-trainable params: 0\n",
      "_________________________________________________________________\n"
     ]
    }
   ],
   "source": [
    "from keras.models import Model\n",
    "\n",
    "from keras.layers import Input\n",
    "from keras.layers import Embedding\n",
    "from keras.layers import Dense\n",
    "from keras.layers import Activation\n",
    "from keras.layers import GlobalAveragePooling1D\n",
    "\n",
    "from keras.initializers import RandomUniform\n",
    "\n",
    "from keras import optimizers\n",
    "\n",
    "main_input = Input(shape=(2,), dtype='int32', name='main_input')\n",
    "\n",
    "embedding = Embedding(name=\"embedding\",\n",
    "                      input_dim=len(entities_index.keys()),\n",
    "                      input_length=2,\n",
    "                      output_dim=200,\n",
    "                      embeddings_initializer=RandomUniform(\n",
    "                              minval=-0.05, maxval=0.05, seed=None))\n",
    "x = embedding(main_input)\n",
    "x = GlobalAveragePooling1D()(x)\n",
    "x = Dense(12)(x)\n",
    "output =  Activation('sigmoid')(x)\n",
    "\n",
    "model = Model(inputs=main_input, outputs=output)\n",
    "model.summary()\n",
    "\n",
    "optimizer = optimizers.Adam(lr=1.0e-5, decay=0.0)\n",
    "model.compile(loss=\"binary_crossentropy\", \n",
    "              optimizer=optimizer, \n",
    "              metrics=['accuracy'])"
   ]
  },
  {
   "cell_type": "markdown",
   "metadata": {},
   "source": [
    "We will be learning embedding vectors with 100 dimensions. The first layer after the input is just a look up table that converts our token indices $x_n$ into vector representations. The second layer averages these representations into a single vector, and then feeds it into a fully connected  layer, with a sigmoid activation function for each relation. \n",
    "\n",
    "This effectively turns our multiclass classification problem into a binary classification problem. Each output neuron in the dense layer is evaluating whether a particular relationship is valid or not. "
   ]
  },
  {
   "cell_type": "markdown",
   "metadata": {},
   "source": [
    "Our model will take in a matrix of entity indices. So we will preprocess our input, by turning\n",
    "all the entities in the dataframe into index tokens. "
   ]
  },
  {
   "cell_type": "code",
   "execution_count": 85,
   "metadata": {},
   "outputs": [],
   "source": [
    "X_train = training_data[['head', 'tail']].applymap(\n",
    "    lambda x: entities_index.get(str(x).lower())).astype('int')\n",
    "y_train = training_data.filter(regex=(\"relation\"))\n",
    "\n",
    "X_valid = validation_data[['head', 'tail']].applymap(\n",
    "    lambda x: entities_index.get(str(x).lower())).astype('int')\n",
    "y_valid = validation_data.filter(regex=(\"relation\"))"
   ]
  },
  {
   "cell_type": "code",
   "execution_count": 86,
   "metadata": {},
   "outputs": [
    {
     "data": {
      "text/html": [
       "<div>\n",
       "<style scoped>\n",
       "    .dataframe tbody tr th:only-of-type {\n",
       "        vertical-align: middle;\n",
       "    }\n",
       "\n",
       "    .dataframe tbody tr th {\n",
       "        vertical-align: top;\n",
       "    }\n",
       "\n",
       "    .dataframe thead th {\n",
       "        text-align: right;\n",
       "    }\n",
       "</style>\n",
       "<table border=\"1\" class=\"dataframe\">\n",
       "  <thead>\n",
       "    <tr style=\"text-align: right;\">\n",
       "      <th></th>\n",
       "      <th>head</th>\n",
       "      <th>tail</th>\n",
       "    </tr>\n",
       "  </thead>\n",
       "  <tbody>\n",
       "    <tr>\n",
       "      <th>14687</th>\n",
       "      <td>4</td>\n",
       "      <td>7</td>\n",
       "    </tr>\n",
       "    <tr>\n",
       "      <th>1886</th>\n",
       "      <td>19</td>\n",
       "      <td>4</td>\n",
       "    </tr>\n",
       "    <tr>\n",
       "      <th>6966</th>\n",
       "      <td>3</td>\n",
       "      <td>17</td>\n",
       "    </tr>\n",
       "    <tr>\n",
       "      <th>8658</th>\n",
       "      <td>1</td>\n",
       "      <td>22</td>\n",
       "    </tr>\n",
       "    <tr>\n",
       "      <th>15796</th>\n",
       "      <td>17</td>\n",
       "      <td>11</td>\n",
       "    </tr>\n",
       "  </tbody>\n",
       "</table>\n",
       "</div>"
      ],
      "text/plain": [
       "       head  tail\n",
       "14687     4     7\n",
       "1886     19     4\n",
       "6966      3    17\n",
       "8658      1    22\n",
       "15796    17    11"
      ]
     },
     "execution_count": 86,
     "metadata": {},
     "output_type": "execute_result"
    }
   ],
   "source": [
    "X_train.head()"
   ]
  },
  {
   "cell_type": "code",
   "execution_count": null,
   "metadata": {},
   "outputs": [],
   "source": [
    "model.fit(X_train.values, \n",
    "          y_train.values, \n",
    "          verbose=1,\n",
    "          epochs=20,\n",
    "          batch_size=128,\n",
    "          shuffle=True,\n",
    "          validation_data=(X_valid.values, y_valid.values))"
   ]
  },
  {
   "cell_type": "markdown",
   "metadata": {},
   "source": [
    "After training the model for 20 epochs, we achieve 78% accuracy on the validation set. Not bad for a baseline estimate. We can use [TSNE](https://lvdmaaten.github.io/tsne/) to visualize the distribution of our embeddings in 2 dimensional space. "
   ]
  },
  {
   "cell_type": "code",
   "execution_count": null,
   "metadata": {},
   "outputs": [],
   "source": [
    "from sklearn.manifold import TSNE\n",
    "import matplotlib.pyplot as plt\n",
    "\n",
    "%matplotlib inline\n",
    "\n",
    "embeddings = model.layers[1].get_weights()[0]\n",
    "\n",
    "labels = []\n",
    "tokens = []\n",
    "\n",
    "for word in entities_index.keys():\n",
    "    labels.append(word)\n",
    "    token = embeddings[entities_index.get(word) - 1, :]\n",
    "    tokens.append(token)\n",
    "    \n",
    "tsne_model = TSNE(perplexity=40, n_components=2, init='pca', n_iter=2500, random_state=23)\n",
    "new_values = tsne_model.fit_transform(tokens)\n",
    "\n",
    "x = []\n",
    "y = []\n",
    "for value in new_values:\n",
    "    x.append(value[0])\n",
    "    y.append(value[1])\n",
    "\n",
    "plt.figure(figsize=(8, 8)) \n",
    "for i in range(len(x)):\n",
    "    plt.scatter(x[i],y[i])\n",
    "    plt.annotate(labels[i],\n",
    "                xy=(x[i], y[i]),\n",
    "                xytext=(5, 2),\n",
    "                textcoords='offset points',\n",
    "                ha='right',\n",
    "                va='bottom')\n",
    "plt.show()"
   ]
  },
  {
   "cell_type": "code",
   "execution_count": 79,
   "metadata": {},
   "outputs": [],
   "source": [
    "# The two families are:\n",
    "f1 = ['chr',\n",
    "      'pen',\n",
    "      'and',\n",
    "      'che',\n",
    "      'mat', \n",
    "      'art', \n",
    "      'vic', \n",
    "      'jam', \n",
    "      'jen', \n",
    "      'chs', \n",
    "      'col', \n",
    "      'cha'\n",
    "]\n",
    "f2 = ['rob', \n",
    "      'maa', \n",
    "      'pie', \n",
    "      'fra', \n",
    "      'gin', \n",
    "      'emi', \n",
    "      'luc', \n",
    "      'mar', \n",
    "      'ang', \n",
    "      'tom', \n",
    "      'alf', \n",
    "      'sop'\n",
    "]"
   ]
  },
  {
   "cell_type": "markdown",
   "metadata": {},
   "source": [
    "The TSNE plot after 20 epochs of training shows that the model is trying to separate the two families, with most of family 1 in the top half of the graph, and most of family 2 in the bottom half of the graph. This grouping has been learned directly from the data. The model has received no input on which person belongs to which family.  "
   ]
  },
  {
   "cell_type": "markdown",
   "metadata": {},
   "source": [
    "#### Before training\n",
    "<img src=\"./images/tsne-embeddings-before.png\" style=\"width: 400px;\"/>"
   ]
  },
  {
   "cell_type": "markdown",
   "metadata": {},
   "source": [
    "#### After 20 epochs of training\n",
    "<img src=\"./images/tsne-embeddings-after.png\" style=\"width: 400px;\"/>"
   ]
  },
  {
   "cell_type": "markdown",
   "metadata": {},
   "source": [
    " ### Conclusion"
   ]
  },
  {
   "cell_type": "markdown",
   "metadata": {},
   "source": [
    "We implemented a baseline embedding model that was able to capture information \n",
    "about the individual families directly from our data. One thing to note is that this model does not effectively capture asymmetry in the relationships. The triple (Charles, father, Arthur), and (Arthur, father, Charles) would both be valid according to this model. We can circumvent this by creating a seperate embedding layer for each entity depending on whether it appears as a subject or an object. \n",
    "\n",
    "That being said, Fasttext still provides a reasonable baseline to estimate latent features in our data. Separating the embeddings into subject and object embeddings could potentially lead to better separation of the two families, but we can explore that in another post. \n"
   ]
  },
  {
   "cell_type": "markdown",
   "metadata": {},
   "source": [
    "### References"
   ]
  },
  {
   "cell_type": "markdown",
   "metadata": {},
   "source": [
    "[1] Nickel, Maximilian, et al. \"A review of relational machine learning for knowledge graphs.\" Proceedings of the IEEE 104.1 (2016): 11-33.\n",
    "\n",
    "[2] Nickel, Maximillian, and Douwe Kiela. \"Poincaré embeddings for learning hierarchical representations.\" Advances in Neural Information Processing Systems. 2017.\n",
    "\n",
    "[3] Joulin, Armand, et al. \"Bag of tricks for efficient text classification.\" arXiv preprint arXiv:1607.01759 (2016).\n",
    "\n",
    "[4] Hinton, G. E. (1986). Learning distributed representations of concepts. In Proceedings of the eighth annual conference of the cognitive science society (Vol. 1, p. 12)."
   ]
  }
 ],
 "metadata": {
  "anaconda-cloud": {},
  "kernelspec": {
   "display_name": "Python [conda root]",
   "language": "python",
   "name": "conda-root-py"
  },
  "language_info": {
   "codemirror_mode": {
    "name": "ipython",
    "version": 3
   },
   "file_extension": ".py",
   "mimetype": "text/x-python",
   "name": "python",
   "nbconvert_exporter": "python",
   "pygments_lexer": "ipython3",
   "version": "3.5.2"
  }
 },
 "nbformat": 4,
 "nbformat_minor": 2
}
